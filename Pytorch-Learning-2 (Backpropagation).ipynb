{
 "cells": [
  {
   "cell_type": "code",
   "execution_count": 2,
   "metadata": {},
   "outputs": [],
   "source": [
    "import torch\n",
    "import numpy as np"
   ]
  },
  {
   "cell_type": "code",
   "execution_count": null,
   "metadata": {},
   "outputs": [],
   "source": [
    "x = torch.tensor(1.0) # input\n",
    "y = torch.tensor(2.0) # label"
   ]
  },
  {
   "cell_type": "code",
   "execution_count": null,
   "metadata": {},
   "outputs": [],
   "source": [
    "w = torch.tensor(1.0, requires_grad=True)"
   ]
  },
  {
   "cell_type": "code",
   "execution_count": null,
   "metadata": {},
   "outputs": [],
   "source": [
    "y_hat = w*x\n",
    "loss = (y_hat-y)**2"
   ]
  },
  {
   "cell_type": "code",
   "execution_count": null,
   "metadata": {},
   "outputs": [],
   "source": [
    "print(loss)"
   ]
  },
  {
   "cell_type": "code",
   "execution_count": null,
   "metadata": {},
   "outputs": [],
   "source": [
    "loss.backward()\n",
    "print(w.grad)"
   ]
  },
  {
   "cell_type": "code",
   "execution_count": 6,
   "metadata": {},
   "outputs": [
    {
     "name": "stdout",
     "output_type": "stream",
     "text": [
      "Prediction before training: f(5) = 0.000\n"
     ]
    }
   ],
   "source": [
    "import numpy as np\n",
    "X = np.array([1,2,3,4], dtype=np.float32)\n",
    "Y = np.array([2,4,6,8], dtype=np.float32)\n",
    "w = 0.0\n",
    "lr = 0.01\n",
    "n_iters = 10\n",
    "# model prediction\n",
    "def forward(x):\n",
    "    return w*x\n",
    "# loss = MSE = (1/N)* (w*x -y)**2\n",
    "def loss(y,y_predicted):\n",
    "    return ((y_predicted-y)**2).mean()\n",
    "# gradient\n",
    "# MSE = (1/N)* (w*x -y)**2\n",
    "# dJ/dw = (1/N)*2*x*(w*x-y)\n",
    "def gradient(x,y,y_predicted):\n",
    "    return np.dot(2*x,y_predicted-y).mean()\n",
    "print(f'Prediction before training: f(5) = {forward(5):.3f}')"
   ]
  },
  {
   "cell_type": "code",
   "execution_count": 7,
   "metadata": {},
   "outputs": [
    {
     "name": "stdout",
     "output_type": "stream",
     "text": [
      "epoch 1: w = 1.200, loss = 30.00000000, lr = 0.01000\n",
      "epoch 3: w = 1.872, loss = 0.76800019, lr = 0.01000\n",
      "epoch 5: w = 1.980, loss = 0.01966083, lr = 0.01000\n",
      "epoch 7: w = 1.997, loss = 0.00050331, lr = 0.01000\n",
      "epoch 9: w = 1.999, loss = 0.00001288, lr = 0.01000\n",
      "Prediction after training: f(5) = 9.999\n"
     ]
    }
   ],
   "source": [
    "for epoch in range(n_iters):\n",
    "    # prediction = forward pass\n",
    "    y_pred = forward(X)\n",
    "    # loss\n",
    "    l = loss(Y,y_pred)\n",
    "    # gradients\n",
    "    dw = gradient(X,Y,y_pred)\n",
    "    # update weights\n",
    "    w -= lr * dw\n",
    "    \n",
    "    if epoch == 10:\n",
    "        lr = 0.01\n",
    "    \n",
    "    if epoch % 2 ==0:\n",
    "        print(f'epoch {epoch+1}: w = {w:.3f}, loss = {l:.8f}, lr = {lr:.5f}')\n",
    "    \n",
    "print(f'Prediction after training: f(5) = {forward(5):.3f}')    "
   ]
  },
  {
   "cell_type": "code",
   "execution_count": 8,
   "metadata": {},
   "outputs": [],
   "source": [
    "import torch\n",
    "X = torch.tensor([1,2,3,4], dtype=torch.float32)\n",
    "Y = torch.tensor([2,4,6,8], dtype=torch.float32)\n",
    "w = torch.tensor(0.0,dtype=torch.float32,requires_grad=True )\n",
    "lr = 0.005\n",
    "n_iters = 100\n",
    "# model prediction\n",
    "def forward(x):\n",
    "    return w*x\n",
    "# loss = MSE = (1/N)* (w*x -y)**2\n",
    "def loss(y,y_predicted):\n",
    "    return ((y_predicted-y)**2).mean()"
   ]
  },
  {
   "cell_type": "code",
   "execution_count": 16,
   "metadata": {},
   "outputs": [
    {
     "name": "stdout",
     "output_type": "stream",
     "text": [
      "epoch 1: w = 2.001, loss = 0.00000517, lr = 0.00500\n",
      "epoch 11: w = 2.000, loss = 0.00000109, lr = 0.00500\n",
      "epoch 21: w = 2.000, loss = 0.00000023, lr = 0.00500\n",
      "epoch 31: w = 2.000, loss = 0.00000005, lr = 0.00500\n",
      "epoch 41: w = 2.000, loss = 0.00000001, lr = 0.00500\n",
      "epoch 51: w = 2.000, loss = 0.00000000, lr = 0.00500\n",
      "epoch 61: w = 2.000, loss = 0.00000000, lr = 0.00500\n",
      "epoch 71: w = 2.000, loss = 0.00000000, lr = 0.00500\n",
      "epoch 81: w = 2.000, loss = 0.00000000, lr = 0.00500\n",
      "epoch 91: w = 2.000, loss = 0.00000000, lr = 0.00500\n",
      "Prediction after training: f(5) = 10.000\n"
     ]
    }
   ],
   "source": [
    "for epoch in range(n_iters):\n",
    "    # prediction = forward pass\n",
    "    y_pred = forward(X)\n",
    "    # loss\n",
    "    l = loss(Y,y_pred)\n",
    "    # gradients = backward pass\n",
    "    l.backward() # dl/dw\n",
    "    # update weights\n",
    "    with torch.no_grad():\n",
    "        w -= lr * w.grad\n",
    "    # zero gradients\n",
    "    w.grad.zero_()\n",
    "    \n",
    "    if epoch % 10 ==0:\n",
    "        print(f'epoch {epoch+1}: w = {w:.3f}, loss = {l:.8f}, lr = {lr:.5f}')\n",
    "    \n",
    "print(f'Prediction after training: f(5) = {forward(5):.3f}')    "
   ]
  },
  {
   "cell_type": "code",
   "execution_count": 17,
   "metadata": {},
   "outputs": [],
   "source": [
    "import torch\n",
    "import torch.nn as nn\n",
    "X = torch.tensor([1,2,3,4], dtype=torch.float32)\n",
    "Y = torch.tensor([2,4,6,8], dtype=torch.float32)\n",
    "w = torch.tensor(0.0,dtype=torch.float32,requires_grad=True )\n",
    "lr = 0.005\n",
    "n_iters = 200\n",
    "loss = nn.MSELoss()\n",
    "optimizer = torch.optim.SGD([w],lr=lr)\n",
    "# model prediction\n",
    "def forward(x):\n",
    "    return w*x\n",
    "print(f'Prediction after training: f(5) = {forward(5):.3f}')   "
   ]
  },
  {
   "cell_type": "code",
   "execution_count": 18,
   "metadata": {},
   "outputs": [
    {
     "name": "stdout",
     "output_type": "stream",
     "text": [
      "epoch 1: w = 0.150, loss = 30.00000000, lr = 0.00500\n",
      "epoch 11: w = 1.152, loss = 6.30893278, lr = 0.00500\n",
      "epoch 21: w = 1.611, loss = 1.32675529, lr = 0.00500\n",
      "epoch 31: w = 1.822, loss = 0.27901375, lr = 0.00500\n",
      "epoch 41: w = 1.918, loss = 0.05867627, lr = 0.00500\n",
      "epoch 51: w = 1.962, loss = 0.01233953, lr = 0.00500\n",
      "epoch 61: w = 1.983, loss = 0.00259500, lr = 0.00500\n",
      "epoch 71: w = 1.992, loss = 0.00054571, lr = 0.00500\n",
      "epoch 81: w = 1.996, loss = 0.00011476, lr = 0.00500\n",
      "epoch 91: w = 1.998, loss = 0.00002413, lr = 0.00500\n",
      "epoch 101: w = 1.999, loss = 0.00000507, lr = 0.00500\n",
      "epoch 111: w = 2.000, loss = 0.00000107, lr = 0.00500\n",
      "epoch 121: w = 2.000, loss = 0.00000022, lr = 0.00500\n",
      "epoch 131: w = 2.000, loss = 0.00000005, lr = 0.00500\n",
      "epoch 141: w = 2.000, loss = 0.00000001, lr = 0.00500\n",
      "epoch 151: w = 2.000, loss = 0.00000000, lr = 0.00500\n",
      "epoch 161: w = 2.000, loss = 0.00000000, lr = 0.00500\n",
      "epoch 171: w = 2.000, loss = 0.00000000, lr = 0.00500\n",
      "epoch 181: w = 2.000, loss = 0.00000000, lr = 0.00500\n",
      "epoch 191: w = 2.000, loss = 0.00000000, lr = 0.00500\n",
      "Prediction after training: f(5) = 10.000\n"
     ]
    }
   ],
   "source": [
    "for epoch in range(n_iters):\n",
    "    # prediction = forward pass\n",
    "    y_pred = forward(X)\n",
    "    # loss\n",
    "    l = loss(Y,y_pred)\n",
    "    # gradients = backward pass\n",
    "    l.backward() # dl/dw\n",
    "    # update weights\n",
    "    optimizer.step()\n",
    "    # zero gradients\n",
    "    optimizer.zero_grad()\n",
    "    \n",
    "    if epoch % 10 ==0:\n",
    "        print(f'epoch {epoch+1}: w = {w:.3f}, loss = {l:.8f}, lr = {lr:.5f}')\n",
    "    \n",
    "print(f'Prediction after training: f(5) = {forward(5):.3f}') "
   ]
  },
  {
   "cell_type": "code",
   "execution_count": 32,
   "metadata": {},
   "outputs": [
    {
     "name": "stdout",
     "output_type": "stream",
     "text": [
      "Prediction after training: f(5) = 1.914\n"
     ]
    }
   ],
   "source": [
    "import torch\n",
    "import torch.nn as nn\n",
    "X = torch.tensor([[1],[2],[3],[4]], dtype=torch.float32)\n",
    "Y = torch.tensor([[2],[4],[6],[8]], dtype=torch.float32)\n",
    "\n",
    "X_test = torch.tensor([5], dtype=torch.float32)\n",
    "\n",
    "n_samples, n_features = X.shape\n",
    "input_size = n_features\n",
    "output_size = n_features\n",
    "\n",
    "#model = nn.Linear(input_size,output_size)\n",
    "\n",
    "class LinearRegression(nn.Module):\n",
    "    \n",
    "    def __init__(self,input_dim, output_dim):\n",
    "        super(LinearRegression, self).__init__()\n",
    "        # define layers\n",
    "        self.lin = nn.Linear(input_dim, output_dim)\n",
    "            \n",
    "    def forward(self,x):\n",
    "        return self.lin(x)\n",
    "    \n",
    "model = LinearRegression(input_size,output_size)\n",
    "\n",
    "lr = 0.01\n",
    "n_iters = 100\n",
    "loss = nn.MSELoss()\n",
    "optimizer = torch.optim.SGD(model.parameters(),lr=lr)\n",
    "print(f'Prediction after training: f(5) = {model(X_test).item():.3f}')   "
   ]
  },
  {
   "cell_type": "code",
   "execution_count": 30,
   "metadata": {},
   "outputs": [
    {
     "name": "stdout",
     "output_type": "stream",
     "text": [
      "epoch 1: w = 0.798, loss = 13.73268127, lr = 0.01000\n",
      "epoch 11: w = 1.650, loss = 0.40481788, lr = 0.01000\n",
      "epoch 21: w = 1.792, loss = 0.05711200, lr = 0.01000\n",
      "epoch 31: w = 1.819, loss = 0.04540143, lr = 0.01000\n",
      "epoch 41: w = 1.828, loss = 0.04254190, lr = 0.01000\n",
      "epoch 51: w = 1.834, loss = 0.04006010, lr = 0.01000\n",
      "epoch 61: w = 1.839, loss = 0.03772826, lr = 0.01000\n",
      "epoch 71: w = 1.844, loss = 0.03553227, lr = 0.01000\n",
      "epoch 81: w = 1.848, loss = 0.03346410, lr = 0.01000\n",
      "epoch 91: w = 1.853, loss = 0.03151632, lr = 0.01000\n",
      "Prediction after training: f(5) = 9.705\n"
     ]
    }
   ],
   "source": [
    "for epoch in range(n_iters):\n",
    "    # prediction = forward pass\n",
    "    y_pred = model(X)\n",
    "    # loss\n",
    "    l = loss(Y,y_pred)\n",
    "    # gradients = backward pass\n",
    "    l.backward() # dl/dw\n",
    "    # update weights\n",
    "    optimizer.step()\n",
    "    # zero gradients\n",
    "    optimizer.zero_grad()\n",
    "    \n",
    "    if epoch % 10 ==0:\n",
    "        [w,b] = model.parameters()\n",
    "        print(f'epoch {epoch+1}: w = {w[0][0].item():.3f}, loss = {l:.8f}, lr = {lr:.5f}')\n",
    "    \n",
    "print(f'Prediction after training: f(5) = {model(X_test).item():.3f}') "
   ]
  },
  {
   "cell_type": "code",
   "execution_count": 34,
   "metadata": {},
   "outputs": [],
   "source": []
  },
  {
   "cell_type": "code",
   "execution_count": null,
   "metadata": {},
   "outputs": [],
   "source": []
  },
  {
   "cell_type": "code",
   "execution_count": null,
   "metadata": {},
   "outputs": [],
   "source": []
  },
  {
   "cell_type": "code",
   "execution_count": null,
   "metadata": {},
   "outputs": [],
   "source": []
  },
  {
   "cell_type": "code",
   "execution_count": null,
   "metadata": {},
   "outputs": [],
   "source": []
  }
 ],
 "metadata": {
  "kernelspec": {
   "display_name": "Python 3",
   "language": "python",
   "name": "python3"
  },
  "language_info": {
   "codemirror_mode": {
    "name": "ipython",
    "version": 3
   },
   "file_extension": ".py",
   "mimetype": "text/x-python",
   "name": "python",
   "nbconvert_exporter": "python",
   "pygments_lexer": "ipython3",
   "version": "3.6.9"
  }
 },
 "nbformat": 4,
 "nbformat_minor": 4
}
